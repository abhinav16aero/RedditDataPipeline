{
 "cells": [
  {
   "cell_type": "code",
   "execution_count": 0,
   "metadata": {
    "application/vnd.databricks.v1+cell": {
     "cellMetadata": {
      "byteLimit": 2048000,
      "rowLimit": 10000
     },
     "inputWidgets": {},
     "nuid": "bc62bdad-650b-4a40-99de-daa1abb3ee0d",
     "showTitle": false,
     "title": ""
    }
   },
   "outputs": [
    {
     "output_type": "display_data",
     "data": {
      "text/html": [
       "\n",
       "            <div>\n",
       "                <p><b>SparkSession - hive</b></p>\n",
       "                \n",
       "        <div>\n",
       "            <p><b>SparkContext</b></p>\n",
       "\n",
       "            <p><a href=\"/?o=4246820505657498#setting/sparkui/0701-191611-k1o2qn32/driver-4252487476537968580\">Spark UI</a></p>\n",
       "\n",
       "            <dl>\n",
       "              <dt>Version</dt>\n",
       "                <dd><code>v3.3.2</code></dd>\n",
       "              <dt>Master</dt>\n",
       "                <dd><code>local[8]</code></dd>\n",
       "              <dt>AppName</dt>\n",
       "                <dd><code>Databricks Shell</code></dd>\n",
       "            </dl>\n",
       "        </div>\n",
       "        \n",
       "            </div>\n",
       "        "
      ]
     },
     "metadata": {
      "application/vnd.databricks.v1+output": {
       "addedWidgets": {},
       "arguments": {},
       "data": "\n            <div>\n                <p><b>SparkSession - hive</b></p>\n                \n        <div>\n            <p><b>SparkContext</b></p>\n\n            <p><a href=\"/?o=4246820505657498#setting/sparkui/0701-191611-k1o2qn32/driver-4252487476537968580\">Spark UI</a></p>\n\n            <dl>\n              <dt>Version</dt>\n                <dd><code>v3.3.2</code></dd>\n              <dt>Master</dt>\n                <dd><code>local[8]</code></dd>\n              <dt>AppName</dt>\n                <dd><code>Databricks Shell</code></dd>\n            </dl>\n        </div>\n        \n            </div>\n        ",
       "datasetInfos": [],
       "metadata": {},
       "removedWidgets": [],
       "textData": null,
       "type": "htmlSandbox"
      }
     },
     "output_type": "display_data"
    }
   ],
   "source": [
    "spark"
   ]
  },
  {
   "cell_type": "code",
   "execution_count": 0,
   "metadata": {
    "application/vnd.databricks.v1+cell": {
     "cellMetadata": {
      "byteLimit": 2048000,
      "rowLimit": 10000
     },
     "inputWidgets": {},
     "nuid": "87399ac3-ac89-4d8e-9435-06796152cd1b",
     "showTitle": false,
     "title": ""
    }
   },
   "outputs": [],
   "source": [
    "from pyspark.sql.types import StructField, StructType, IntegerType, StringType, BooleanType, DateType, DecimalType\n",
    "from pyspark.sql.functions import col, when, sum, avg, row_number \n",
    "from pyspark.sql.window import Window"
   ]
  },
  {
   "cell_type": "code",
   "execution_count": 0,
   "metadata": {
    "application/vnd.databricks.v1+cell": {
     "cellMetadata": {
      "byteLimit": 2048000,
      "rowLimit": 10000
     },
     "inputWidgets": {},
     "nuid": "ea79339a-d208-4d84-a9ee-e12b1f995eb8",
     "showTitle": false,
     "title": ""
    }
   },
   "outputs": [],
   "source": [
    "from pyspark.sql import SparkSession \n",
    "\n",
    "#create session\n",
    "spark = SparkSession.builder.appName(\"T20WC 2024 Data Analysis\").getOrCreate()"
   ]
  },
  {
   "cell_type": "code",
   "execution_count": 0,
   "metadata": {
    "application/vnd.databricks.v1+cell": {
     "cellMetadata": {
      "byteLimit": 2048000,
      "rowLimit": 10000
     },
     "inputWidgets": {},
     "nuid": "8e1581af-2be6-4c4b-be92-954737d6c545",
     "showTitle": false,
     "title": ""
    }
   },
   "outputs": [
    {
     "output_type": "display_data",
     "data": {
      "text/html": [
       "\n",
       "            <div>\n",
       "                <p><b>SparkSession - hive</b></p>\n",
       "                \n",
       "        <div>\n",
       "            <p><b>SparkContext</b></p>\n",
       "\n",
       "            <p><a href=\"/?o=4246820505657498#setting/sparkui/0701-191611-k1o2qn32/driver-4252487476537968580\">Spark UI</a></p>\n",
       "\n",
       "            <dl>\n",
       "              <dt>Version</dt>\n",
       "                <dd><code>v3.3.2</code></dd>\n",
       "              <dt>Master</dt>\n",
       "                <dd><code>local[8]</code></dd>\n",
       "              <dt>AppName</dt>\n",
       "                <dd><code>Databricks Shell</code></dd>\n",
       "            </dl>\n",
       "        </div>\n",
       "        \n",
       "            </div>\n",
       "        "
      ]
     },
     "metadata": {
      "application/vnd.databricks.v1+output": {
       "addedWidgets": {},
       "arguments": {},
       "data": "\n            <div>\n                <p><b>SparkSession - hive</b></p>\n                \n        <div>\n            <p><b>SparkContext</b></p>\n\n            <p><a href=\"/?o=4246820505657498#setting/sparkui/0701-191611-k1o2qn32/driver-4252487476537968580\">Spark UI</a></p>\n\n            <dl>\n              <dt>Version</dt>\n                <dd><code>v3.3.2</code></dd>\n              <dt>Master</dt>\n                <dd><code>local[8]</code></dd>\n              <dt>AppName</dt>\n                <dd><code>Databricks Shell</code></dd>\n            </dl>\n        </div>\n        \n            </div>\n        ",
       "datasetInfos": [],
       "metadata": {},
       "removedWidgets": [],
       "textData": null,
       "type": "htmlSandbox"
      }
     },
     "output_type": "display_data"
    }
   ],
   "source": [
    "spark"
   ]
  },
  {
   "cell_type": "code",
   "execution_count": 0,
   "metadata": {
    "application/vnd.databricks.v1+cell": {
     "cellMetadata": {
      "byteLimit": 2048000,
      "rowLimit": 10000
     },
     "inputWidgets": {},
     "nuid": "95b785e0-8459-4003-8403-e16cbeb1e7ca",
     "showTitle": false,
     "title": ""
    }
   },
   "outputs": [],
   "source": [
    "ball_by_ball_schema = StructType([\n",
    "    StructField(\"match_id\", IntegerType(), True),\n",
    "    StructField(\"over_id\", IntegerType(), True),\n",
    "    StructField(\"ball_id\", IntegerType(), True),\n",
    "    StructField(\"innings_no\", IntegerType(), True),\n",
    "    StructField(\"team_batting\", StringType(), True),\n",
    "    StructField(\"team_bowling\", StringType(), True),\n",
    "    StructField(\"striker_batting_position\", IntegerType(), True),\n",
    "    StructField(\"extra_type\", StringType(), True),\n",
    "    StructField(\"runs_scored\", IntegerType(), True),\n",
    "    StructField(\"extra_runs\", IntegerType(), True),\n",
    "    StructField(\"wides\", IntegerType(), True),\n",
    "    StructField(\"legbyes\", IntegerType(), True),\n",
    "    StructField(\"byes\", IntegerType(), True),\n",
    "    StructField(\"noballs\", IntegerType(), True),\n",
    "    StructField(\"penalty\", IntegerType(), True),\n",
    "    StructField(\"bowler_extras\", IntegerType(), True),\n",
    "    StructField(\"out_type\", StringType(), True),\n",
    "    StructField(\"caught\", BooleanType(), True),\n",
    "    StructField(\"bowled\", BooleanType(), True),\n",
    "    StructField(\"run_out\", BooleanType(), True),\n",
    "    StructField(\"lbw\", BooleanType(), True),\n",
    "    StructField(\"retired_hurt\", BooleanType(), True),\n",
    "    StructField(\"stumped\", BooleanType(), True),\n",
    "    StructField(\"caught_and_bowled\", BooleanType(), True),\n",
    "    StructField(\"hit_wicket\", BooleanType(), True),\n",
    "    StructField(\"obstructingfeild\", BooleanType(), True),\n",
    "    StructField(\"bowler_wicket\", BooleanType(), True),\n",
    "    StructField(\"match_date\", DateType(), True),\n",
    "    StructField(\"season\", IntegerType(), True),\n",
    "    StructField(\"striker\", IntegerType(), True),\n",
    "    StructField(\"non_striker\", IntegerType(), True),\n",
    "    StructField(\"bowler\", IntegerType(), True),\n",
    "    StructField(\"player_out\", IntegerType(), True),\n",
    "    StructField(\"fielders\", IntegerType(), True),\n",
    "    StructField(\"striker_match_sk\", IntegerType(), True),\n",
    "    StructField(\"strikersk\", IntegerType(), True),\n",
    "    StructField(\"nonstriker_match_sk\", IntegerType(), True),\n",
    "    StructField(\"nonstriker_sk\", IntegerType(), True),\n",
    "    StructField(\"fielder_match_sk\", IntegerType(), True),\n",
    "    StructField(\"fielder_sk\", IntegerType(), True),\n",
    "    StructField(\"bowler_match_sk\", IntegerType(), True),\n",
    "    StructField(\"bowler_sk\", IntegerType(), True),\n",
    "    StructField(\"playerout_match_sk\", IntegerType(), True),\n",
    "    StructField(\"battingteam_sk\", IntegerType(), True),\n",
    "    StructField(\"bowlingteam_sk\", IntegerType(), True),\n",
    "    StructField(\"keeper_catch\", BooleanType(), True),\n",
    "    StructField(\"player_out_sk\", IntegerType(), True),\n",
    "    StructField(\"matchdatesk\", DateType(), True)\n",
    "])"
   ]
  },
  {
   "cell_type": "code",
   "execution_count": 0,
   "metadata": {
    "application/vnd.databricks.v1+cell": {
     "cellMetadata": {
      "byteLimit": 2048000,
      "rowLimit": 10000
     },
     "inputWidgets": {},
     "nuid": "73d52062-6cdf-406b-a5ac-4dcc9421224d",
     "showTitle": false,
     "title": ""
    }
   },
   "outputs": [],
   "source": [
    "ball_by_ball_df = spark.read.schema(ball_by_ball_schema).format(\"csv\").option(\"header\",\"true\").load(\"s3://t20wc-2024/ballbyball.csv\")"
   ]
  },
  {
   "cell_type": "code",
   "execution_count": 0,
   "metadata": {
    "application/vnd.databricks.v1+cell": {
     "cellMetadata": {
      "byteLimit": 2048000,
      "rowLimit": 10000
     },
     "inputWidgets": {},
     "nuid": "dc82bb62-2d58-48d3-af9c-6f88d3939435",
     "showTitle": false,
     "title": ""
    }
   },
   "outputs": [],
   "source": [
    "match_schema = StructType([\n",
    "    StructField(\"match_sk\", IntegerType(), True),\n",
    "    StructField(\"match_id\", IntegerType(), True),\n",
    "    StructField(\"team1\", StringType(), True),\n",
    "    StructField(\"team2\", StringType(), True),\n",
    "    StructField(\"match_date\", DateType(), True),\n",
    "    StructField(\"season_year\", IntegerType(), True),\n",
    "    StructField(\"venue_name\", StringType(), True),\n",
    "    StructField(\"city_name\", StringType(), True),\n",
    "    StructField(\"country_name\", StringType(), True),\n",
    "    StructField(\"toss_winner\", StringType(), True),\n",
    "    StructField(\"match_winner\", StringType(), True),\n",
    "    StructField(\"toss_name\", StringType(), True),\n",
    "    StructField(\"win_type\", StringType(), True),\n",
    "    StructField(\"outcome_type\", StringType(), True),\n",
    "    StructField(\"manofmach\", StringType(), True),\n",
    "    StructField(\"win_margin\", IntegerType(), True),\n",
    "    StructField(\"country_id\", IntegerType(), True)\n",
    "])\n",
    "match_df = spark.read.schema(match_schema).format(\"csv\").option(\"header\",\"true\").load(\"s3://t20wc-2024/matches.csv\")\n"
   ]
  },
  {
   "cell_type": "code",
   "execution_count": 0,
   "metadata": {
    "application/vnd.databricks.v1+cell": {
     "cellMetadata": {
      "byteLimit": 2048000,
      "rowLimit": 10000
     },
     "inputWidgets": {},
     "nuid": "4a572889-45d0-41b0-82a8-62da48a3695c",
     "showTitle": false,
     "title": ""
    }
   },
   "outputs": [],
   "source": [
    "player_schema = StructType([\n",
    "    StructField(\"player_sk\", IntegerType(), True),\n",
    "    StructField(\"player_id\", IntegerType(), True),\n",
    "    StructField(\"player_name\", StringType(), True),\n",
    "    StructField(\"dob\", DateType(), True),\n",
    "    StructField(\"batting_hand\", StringType(), True),\n",
    "    StructField(\"bowling_skill\", StringType(), True),\n",
    "    StructField(\"country_name\", StringType(), True)\n",
    "])\n",
    "\n",
    "player_df = spark.read.schema(player_schema).format(\"csv\").option(\"header\",\"true\").load(\"s3://t20wc-2024/players.csv\")\n"
   ]
  },
  {
   "cell_type": "code",
   "execution_count": 0,
   "metadata": {
    "application/vnd.databricks.v1+cell": {
     "cellMetadata": {
      "byteLimit": 2048000,
      "rowLimit": 10000
     },
     "inputWidgets": {},
     "nuid": "2cd13901-63a6-4282-bccb-0cb60f25288c",
     "showTitle": false,
     "title": ""
    }
   },
   "outputs": [],
   "source": [
    "player_match_schema = StructType([\n",
    "    StructField(\"player_match_sk\", IntegerType(), True),\n",
    "    StructField(\"playermatch_key\", DecimalType(), True),\n",
    "    StructField(\"match_id\", IntegerType(), True),\n",
    "    StructField(\"player_id\", IntegerType(), True),\n",
    "    StructField(\"player_name\", StringType(), True),\n",
    "    StructField(\"dob\", DateType(), True),\n",
    "    StructField(\"batting_hand\", StringType(), True),\n",
    "    StructField(\"bowling_skill\", StringType(), True),\n",
    "    StructField(\"country_name\", StringType(), True),\n",
    "    StructField(\"role_desc\", StringType(), True),\n",
    "    StructField(\"player_team\", StringType(), True),\n",
    "    StructField(\"opposit_team\", StringType(), True),\n",
    "    StructField(\"season_year\", IntegerType(), True),\n",
    "    StructField(\"is_manofthematch\", BooleanType(), True),\n",
    "    StructField(\"age_as_on_match\", IntegerType(), True),\n",
    "    StructField(\"isplayers_team_won\", BooleanType(), True),\n",
    "    StructField(\"batting_status\", StringType(), True),\n",
    "    StructField(\"bowling_status\", StringType(), True),\n",
    "    StructField(\"player_captain\", StringType(), True),\n",
    "    StructField(\"opposit_captain\", StringType(), True),\n",
    "    StructField(\"player_keeper\", StringType(), True),\n",
    "    StructField(\"opposit_keeper\", StringType(), True)\n",
    "])\n",
    "\n",
    "player_match_df = spark.read.schema(player_match_schema).format(\"csv\").option(\"header\",\"true\").load(\"s3://t20wc-2024/season.csv\")\n"
   ]
  },
  {
   "cell_type": "code",
   "execution_count": 0,
   "metadata": {
    "application/vnd.databricks.v1+cell": {
     "cellMetadata": {
      "byteLimit": 2048000,
      "rowLimit": 10000
     },
     "inputWidgets": {},
     "nuid": "0b4ab09f-8ac5-4908-a834-8130d38381e1",
     "showTitle": false,
     "title": ""
    }
   },
   "outputs": [],
   "source": [
    "team_schema = StructType([\n",
    "    StructField(\"team_sk\", IntegerType(), True),\n",
    "    StructField(\"team_id\", IntegerType(), True),\n",
    "    StructField(\"team_name\", StringType(), True)\n",
    "])\n",
    "\n",
    "team_df = spark.read.schema(team_schema).format(\"csv\").option(\"header\",\"true\").load(\"s3://t20wc-2024/team.csv\")"
   ]
  },
  {
   "cell_type": "code",
   "execution_count": 0,
   "metadata": {
    "application/vnd.databricks.v1+cell": {
     "cellMetadata": {
      "byteLimit": 2048000,
      "rowLimit": 10000
     },
     "inputWidgets": {},
     "nuid": "7716b2fa-abb6-4795-9528-10dce1d87ae9",
     "showTitle": false,
     "title": ""
    }
   },
   "outputs": [],
   "source": [
    "# Filter to include only valid deliveries (excluding extras like wides and no balls for specific analyses)\n",
    "ball_by_ball_df = ball_by_ball_df.filter((col(\"wides\") == 0) & (col(\"noballs\")==0))\n",
    "\n",
    "# Aggregation: Calculate the total and average runs scored in each match and inning\n",
    "total_and_avg_runs = ball_by_ball_df.groupBy(\"match_id\", \"innings_no\").agg(\n",
    "    sum(\"runs_scored\").alias(\"total_runs\"),\n",
    "    avg(\"runs_scored\").alias(\"average_runs\")\n",
    ")"
   ]
  },
  {
   "cell_type": "code",
   "execution_count": 0,
   "metadata": {
    "application/vnd.databricks.v1+cell": {
     "cellMetadata": {
      "byteLimit": 2048000,
      "rowLimit": 10000
     },
     "inputWidgets": {},
     "nuid": "60496f99-d0b3-4905-9ad6-419904c83e9a",
     "showTitle": false,
     "title": ""
    }
   },
   "outputs": [],
   "source": [
    "# Window Function: Calculate running total of runs in each match for each over\n",
    "windowSpec = Window.partitionBy(\"match_id\",\"innings_no\").orderBy(\"over_id\")\n",
    "\n",
    "ball_by_ball_df = ball_by_ball_df.withColumn(\n",
    "    \"running_total_runs\",\n",
    "    sum(\"runs_scored\").over(windowSpec)\n",
    ")\n"
   ]
  },
  {
   "cell_type": "code",
   "execution_count": 0,
   "metadata": {
    "application/vnd.databricks.v1+cell": {
     "cellMetadata": {
      "byteLimit": 2048000,
      "rowLimit": 10000
     },
     "inputWidgets": {},
     "nuid": "c9baded4-d3f1-43bf-954e-252c65588c5a",
     "showTitle": false,
     "title": ""
    }
   },
   "outputs": [],
   "source": [
    "# Conditional Column: Flag for high impact balls (either a wicket or more than 6 runs including extras)\n",
    "ball_by_ball_df = ball_by_ball_df.withColumn(\n",
    "    \"high_impact\",\n",
    "    when((col(\"runs_scored\") + col(\"extra_runs\") > 6) | (col(\"bowler_wicket\") == True), True).otherwise(False)\n",
    ")"
   ]
  },
  {
   "cell_type": "code",
   "execution_count": 0,
   "metadata": {
    "application/vnd.databricks.v1+cell": {
     "cellMetadata": {
      "byteLimit": 2048000,
      "rowLimit": 10000
     },
     "inputWidgets": {},
     "nuid": "37c2fbfc-1540-4035-a673-0072d1498632",
     "showTitle": false,
     "title": ""
    }
   },
   "outputs": [],
   "source": [
    "from pyspark.sql.functions import year, month, dayofmonth, when\n",
    "\n",
    "# Extracting year, month, and day from the match date for more detailed time-based analysis\n",
    "match_df = match_df.withColumn(\"year\", year(\"match_date\"))\n",
    "match_df = match_df.withColumn(\"month\", month(\"match_date\"))\n",
    "match_df = match_df.withColumn(\"day\", dayofmonth(\"match_date\"))\n",
    "\n",
    "# High margin win: categorizing win margins into 'high', 'medium', and 'low'\n",
    "match_df = match_df.withColumn(\n",
    "    \"win_margin_category\",\n",
    "    when(col(\"win_margin\") >= 100, \"High\")\n",
    "    .when((col(\"win_margin\") >= 50) & (col(\"win_margin\") < 100), \"Medium\")\n",
    "    .otherwise(\"Low\")\n",
    ")\n",
    "\n",
    "# Analyze the impact of the toss: who wins the toss and the match\n",
    "match_df = match_df.withColumn(\n",
    "    \"toss_match_winner\",\n",
    "    when(col(\"toss_winner\") == col(\"match_winner\"), \"Yes\").otherwise(\"No\")\n",
    ")\n",
    "\n"
   ]
  },
  {
   "cell_type": "code",
   "execution_count": 0,
   "metadata": {
    "application/vnd.databricks.v1+cell": {
     "cellMetadata": {
      "byteLimit": 2048000,
      "rowLimit": 10000
     },
     "inputWidgets": {},
     "nuid": "c7c0e41b-d06d-4493-8718-42e3ad33cc77",
     "showTitle": false,
     "title": ""
    }
   },
   "outputs": [],
   "source": [
    "from pyspark.sql.functions import lower, regexp_replace\n",
    "\n",
    "# Normalize and clean player names\n",
    "player_df = player_df.withColumn(\"player_name\", lower(regexp_replace(\"player_name\", \"[^a-zA-Z0-9 ]\", \"\")))\n",
    "\n",
    "# Handle missing values in 'batting_hand' and 'bowling_skill' with a default 'unknown'\n",
    "player_df = player_df.na.fill({\"batting_hand\": \"unknown\", \"bowling_skill\": \"unknown\"})\n",
    "\n",
    "# Categorizing players based on batting hand\n",
    "player_df = player_df.withColumn(\n",
    "    \"batting_style\",\n",
    "    when(col(\"batting_hand\").contains(\"left\"), \"Left-Handed\").otherwise(\"Right-Handed\")\n",
    ")\n",
    "\n"
   ]
  },
  {
   "cell_type": "code",
   "execution_count": 0,
   "metadata": {
    "application/vnd.databricks.v1+cell": {
     "cellMetadata": {
      "byteLimit": 2048000,
      "rowLimit": 10000
     },
     "inputWidgets": {},
     "nuid": "ea4d109f-d76d-49e0-9676-5397547267e3",
     "showTitle": false,
     "title": ""
    }
   },
   "outputs": [],
   "source": [
    "from pyspark.sql.functions import col, when, current_date, expr\n",
    "\n",
    "# Add a 'veteran_status' column based on player age\n",
    "player_match_df = player_match_df.withColumn(\n",
    "    \"veteran_status\",\n",
    "    when(col(\"age_as_on_match\") >= 35, \"Veteran\").otherwise(\"Non-Veteran\")\n",
    ")\n",
    "\n",
    "# Dynamic column to calculate years since debut\n",
    "player_match_df = player_match_df.withColumn(\n",
    "    \"years_since_debut\",\n",
    "    (year(current_date()) - col(\"season_year\"))\n",
    ")\n",
    "\n"
   ]
  },
  {
   "cell_type": "code",
   "execution_count": 0,
   "metadata": {
    "application/vnd.databricks.v1+cell": {
     "cellMetadata": {
      "byteLimit": 2048000,
      "rowLimit": 10000
     },
     "inputWidgets": {},
     "nuid": "55115b56-a18e-4ffa-87d4-b420cc67005d",
     "showTitle": false,
     "title": ""
    }
   },
   "outputs": [],
   "source": [
    "ball_by_ball_df.createOrReplaceTempView(\"ball_by_ball\")\n",
    "match_df.createOrReplaceTempView(\"match\")\n",
    "player_df.createOrReplaceTempView(\"player\")\n",
    "player_match_df.createOrReplaceTempView(\"player_match\")\n",
    "team_df.createOrReplaceTempView(\"team\")"
   ]
  },
  {
   "cell_type": "code",
   "execution_count": 0,
   "metadata": {
    "application/vnd.databricks.v1+cell": {
     "cellMetadata": {
      "byteLimit": 2048000,
      "rowLimit": 10000
     },
     "inputWidgets": {},
     "nuid": "2c4d5fa9-6af6-4be2-b1a7-a2526361e69f",
     "showTitle": false,
     "title": ""
    }
   },
   "outputs": [
    {
     "output_type": "stream",
     "name": "stdout",
     "output_type": "stream",
     "text": [
      "Out[19]: ['match_id',\n 'over_id',\n 'ball_id',\n 'innings_no',\n 'team_batting',\n 'team_bowling',\n 'striker_batting_position',\n 'extra_type',\n 'runs_scored',\n 'extra_runs',\n 'wides',\n 'legbyes',\n 'byes',\n 'noballs',\n 'penalty',\n 'bowler_extras',\n 'out_type',\n 'caught',\n 'bowled',\n 'run_out',\n 'lbw',\n 'retired_hurt',\n 'stumped',\n 'caught_and_bowled',\n 'hit_wicket',\n 'obstructingfeild',\n 'bowler_wicket',\n 'match_date',\n 'season',\n 'striker',\n 'non_striker',\n 'bowler',\n 'player_out',\n 'fielders',\n 'striker_match_sk',\n 'strikersk',\n 'nonstriker_match_sk',\n 'nonstriker_sk',\n 'fielder_match_sk',\n 'fielder_sk',\n 'bowler_match_sk',\n 'bowler_sk',\n 'playerout_match_sk',\n 'battingteam_sk',\n 'bowlingteam_sk',\n 'keeper_catch',\n 'player_out_sk',\n 'matchdatesk',\n 'running_total_runs',\n 'high_impact']"
     ]
    }
   ],
   "source": [
    "ball_by_ball_df.columns"
   ]
  },
  {
   "cell_type": "code",
   "execution_count": 0,
   "metadata": {
    "application/vnd.databricks.v1+cell": {
     "cellMetadata": {
      "byteLimit": 2048000,
      "rowLimit": 10000
     },
     "inputWidgets": {},
     "nuid": "c7e35ad0-7fdf-4eed-af81-9e4e729030fb",
     "showTitle": false,
     "title": ""
    }
   },
   "outputs": [],
   "source": [
    "top_scoring_batsmen_per_season = spark.sql(\"\"\"\n",
    "SELECT \n",
    "p.player_name,\n",
    "m.season_year,\n",
    "SUM(b.runs_scored) AS total_runs \n",
    "FROM ball_by_ball b\n",
    "JOIN match m ON b.match_id = m.match_id   \n",
    "JOIN player_match pm ON m.match_id = pm.match_id AND b.striker = pm.player_id     \n",
    "JOIN player p ON p.player_id = pm.player_id\n",
    "GROUP BY p.player_name, m.season_year\n",
    "ORDER BY m.season_year, total_runs DESC\n",
    "\"\"\")"
   ]
  },
  {
   "cell_type": "code",
   "execution_count": 0,
   "metadata": {
    "application/vnd.databricks.v1+cell": {
     "cellMetadata": {
      "byteLimit": 2048000,
      "rowLimit": 10000
     },
     "inputWidgets": {},
     "nuid": "b3c57ae8-93d1-4ce1-864a-9e07c3a648c7",
     "showTitle": false,
     "title": ""
    }
   },
   "outputs": [],
   "source": [
    "economical_bowlers_powerplay = spark.sql(\"\"\"\n",
    "SELECT \n",
    "p.player_name, \n",
    "AVG(b.runs_scored) AS avg_runs_per_ball, \n",
    "COUNT(b.bowler_wicket) AS total_wickets\n",
    "FROM ball_by_ball b\n",
    "JOIN player_match pm ON b.match_id = pm.match_id AND b.bowler = pm.player_id\n",
    "JOIN player p ON pm.player_id = p.player_id\n",
    "WHERE b.over_id <= 6\n",
    "GROUP BY p.player_name\n",
    "HAVING COUNT(*) >= 1\n",
    "ORDER BY avg_runs_per_ball, total_wickets DESC\n",
    "\"\"\")\n",
    "\n"
   ]
  },
  {
   "cell_type": "code",
   "execution_count": 0,
   "metadata": {
    "application/vnd.databricks.v1+cell": {
     "cellMetadata": {
      "byteLimit": 2048000,
      "rowLimit": 10000
     },
     "inputWidgets": {},
     "nuid": "2fe58b8e-7d5a-403f-bef0-7b248670f039",
     "showTitle": false,
     "title": ""
    }
   },
   "outputs": [],
   "source": [
    "average_runs_in_wins = spark.sql(\"\"\"\n",
    "SELECT p.player_name, AVG(b.runs_scored) AS avg_runs_in_wins, COUNT(*) AS innings_played\n",
    "FROM ball_by_ball b\n",
    "JOIN player_match pm ON b.match_id = pm.match_id AND b.striker = pm.player_id\n",
    "JOIN player p ON pm.player_id = p.player_id\n",
    "JOIN match m ON pm.match_id = m.match_id\n",
    "WHERE m.match_winner = pm.player_team\n",
    "GROUP BY p.player_name\n",
    "ORDER BY avg_runs_in_wins ASC\n",
    "\"\"\")\n",
    "\n"
   ]
  },
  {
   "cell_type": "code",
   "execution_count": 0,
   "metadata": {
    "application/vnd.databricks.v1+cell": {
     "cellMetadata": {
      "byteLimit": 2048000,
      "rowLimit": 10000
     },
     "inputWidgets": {},
     "nuid": "2e54edd3-940a-4cb2-a1e6-0eaf2aea67b3",
     "showTitle": false,
     "title": ""
    }
   },
   "outputs": [],
   "source": [
    "import matplotlib.pyplot as plt"
   ]
  },
  {
   "cell_type": "code",
   "execution_count": 0,
   "metadata": {
    "application/vnd.databricks.v1+cell": {
     "cellMetadata": {},
     "inputWidgets": {},
     "nuid": "20e999b6-db18-4141-b615-3edc6cb8edd3",
     "showTitle": false,
     "title": ""
    }
   },
   "outputs": [],
   "source": [
    "# Assuming 'economical_bowlers_powerplay' is already executed and available as a Spark DataFrame\n",
    "economical_bowlers_pd = economical_bowlers_powerplay.toPandas()"
   ]
  },
  {
   "cell_type": "code",
   "execution_count": 0,
   "metadata": {
    "application/vnd.databricks.v1+cell": {
     "cellMetadata": {
      "byteLimit": 2048000,
      "rowLimit": 10000
     },
     "inputWidgets": {},
     "nuid": "4000ebb7-4a53-4be8-86ae-0e684f72d815",
     "showTitle": false,
     "title": ""
    }
   },
   "outputs": [
    {
     "output_type": "display_data",
     "data": {
      "image/png": "[encoded data removed]"
     },
     "metadata": {
      "application/vnd.databricks.v1+output": {
       "addedWidgets": {},
       "arguments": {},
       "data": "data:image/png;base64,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\n",
       "datasetInfos": [],
       "metadata": {},
       "removedWidgets": [],
       "type": "image"
      }
     },
     "output_type": "display_data"
    }
   ],
   "source": [
    "\n",
    "\n",
    "# Visualizing using Matplotlib\n",
    "plt.figure(figsize=(12, 8))\n",
    "# Limiting to top 10 for clarity in the plot\n",
    "top_economical_bowlers = economical_bowlers_pd.nsmallest(10, 'avg_runs_per_ball')\n",
    "plt.bar(top_economical_bowlers['player_name'], top_economical_bowlers['avg_runs_per_ball'], color='skyblue')\n",
    "plt.xlabel('Bowler Name')\n",
    "plt.ylabel('Average Runs per Ball')\n",
    "plt.title('Most Economical Bowlers in T20WC 2024 (Top 10)')\n",
    "plt.xticks(rotation=45)\n",
    "plt.tight_layout()\n",
    "plt.show()\n"
   ]
  },
  {
   "cell_type": "code",
   "execution_count": 0,
   "metadata": {
    "application/vnd.databricks.v1+cell": {
     "cellMetadata": {
      "byteLimit": 2048000,
      "rowLimit": 10000
     },
     "inputWidgets": {},
     "nuid": "a016a164-478e-427f-9f9c-38ef8e6f4ea5",
     "showTitle": false,
     "title": ""
    }
   },
   "outputs": [],
   "source": [
    "import seaborn as sns"
   ]
  },
  {
   "cell_type": "code",
   "execution_count": 0,
   "metadata": {
    "application/vnd.databricks.v1+cell": {
     "cellMetadata": {},
     "inputWidgets": {},
     "nuid": "6d0668b8-7ccc-4672-858a-b4708c277f50",
     "showTitle": false,
     "title": ""
    }
   },
   "outputs": [],
   "source": [
    "average_runs_pd = average_runs_in_wins.toPandas()"
   ]
  },
  {
   "cell_type": "code",
   "execution_count": 0,
   "metadata": {
    "application/vnd.databricks.v1+cell": {
     "cellMetadata": {
      "byteLimit": 2048000,
      "rowLimit": 10000
     },
     "inputWidgets": {},
     "nuid": "24b36049-ac06-4731-bc92-b4857b46d22a",
     "showTitle": false,
     "title": ""
    }
   },
   "outputs": [
    {
     "output_type": "display_data",
     "data": {
      "image/png": "[encoded data removed]"
     },
     "metadata": {
      "application/vnd.databricks.v1+output": {
       "addedWidgets": {},
       "arguments": {},
       "data": "data:image/png;base64,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\n",
       "datasetInfos": [],
       "metadata": {},
       "removedWidgets": [],
       "type": "image"
      }
     },
     "output_type": "display_data"
    }
   ],
   "source": [
    "# Using seaborn to plot average runs in winning matches\n",
    "plt.figure(figsize=(12, 8))\n",
    "top_scorers = average_runs_pd.nlargest(10, 'avg_runs_in_wins')\n",
    "sns.barplot(x='player_name', y='avg_runs_in_wins', data=top_scorers)\n",
    "plt.title('Average Runs Scored by Batsmen in Winning Matches (Top 10 Scorers)')\n",
    "plt.xlabel('Player Name')\n",
    "plt.ylabel('Average Runs in Wins')\n",
    "plt.xticks(rotation=45)\n",
    "plt.tight_layout()\n",
    "plt.show()\n"
   ]
  },
  {
   "cell_type": "code",
   "execution_count": 0,
   "metadata": {
    "application/vnd.databricks.v1+cell": {
     "cellMetadata": {},
     "inputWidgets": {},
     "nuid": "ddc91dee-e892-4abe-b6f9-6a003f0d551f",
     "showTitle": false,
     "title": ""
    }
   },
   "outputs": [],
   "source": []
  }
 ],
 "metadata": {
  "application/vnd.databricks.v1+notebook": {
   "dashboards": [],
   "environmentMetadata": null,
   "language": "python",
   "notebookMetadata": {
    "pythonIndentUnit": 4
   },
   "notebookName": "T20 WC 2024",
   "widgets": {}
  }
 },
 "nbformat": 4,
 "nbformat_minor": 0
}
